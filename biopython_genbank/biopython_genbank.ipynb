{
 "cells": [
  {
   "cell_type": "markdown",
   "metadata": {
    "colab_type": "text",
    "id": "view-in-github"
   },
   "source": [
    "<a href=\"https://colab.research.google.com/github/lescai-teaching/class-lt-biology/blob/master/classes/20_biopython-genbank/20_biopython_genbank.ipynb\" target=\"_parent\"><img src=\"https://colab.research.google.com/assets/colab-badge.svg\" alt=\"Open In Colab\"/></a>"
   ]
  },
  {
   "cell_type": "markdown",
   "metadata": {
    "id": "AsnlBAF7Sg0_"
   },
   "source": [
    "# Biopython - Accessing Genbank\n",
    "\n",
    "## Introduction\n",
    "\n",
    "The goal of Biopython is to make it as easy as possible to use Python for bioinformatics by creating high-quality, reusable modules and classes. \n",
    "\n",
    "Like in previous classes, we need first to install Biopython on this colab environment:"
   ]
  },
  {
   "cell_type": "code",
   "execution_count": 1,
   "metadata": {
    "id": "RSIEuAGwS761"
   },
   "outputs": [
    {
     "name": "stdout",
     "output_type": "stream",
     "text": [
      "Requirement already satisfied: biopython in /Users/mariangelasantorsola/opt/anaconda3/lib/python3.9/site-packages (1.81)\n",
      "Requirement already satisfied: numpy in /Users/mariangelasantorsola/opt/anaconda3/lib/python3.9/site-packages (from biopython) (1.20.3)\n",
      "Note: you may need to restart the kernel to use updated packages.\n"
     ]
    }
   ],
   "source": [
    "%pip install biopython"
   ]
  },
  {
   "cell_type": "markdown",
   "metadata": {
    "id": "5Rr7Xu7_S8SA"
   },
   "source": [
    "Biopython features include parsers for various Bioinformatics file formats (BLAST, Clustalw, FASTA, Genbank), access to online services (NCBI, Expasy)\n",
    "\n",
    "For more information see the [cookbook](http://biopython.org/DIST/docs/tutorial/Tutorial.html)\n",
    "\n",
    "The first thing we need to do is importing the libraries into our environment:"
   ]
  },
  {
   "cell_type": "code",
   "execution_count": 2,
   "metadata": {
    "id": "QbotWYBLR5sE"
   },
   "outputs": [
    {
     "name": "stdout",
     "output_type": "stream",
     "text": [
      "1.81\n"
     ]
    }
   ],
   "source": [
    "import Bio\n",
    "from Bio import Entrez\n",
    "from Bio import SeqIO\n",
    "import textwrap\n",
    "print(Bio.__version__)\n",
    "Entrez.email = \"A.N.Other@example.com\""
   ]
  },
  {
   "cell_type": "markdown",
   "metadata": {
    "id": "_l3tggbhSsO6"
   },
   "source": [
    "\n",
    "## Simple Downloads\n",
    "\n",
    "We can now use *Entrez* methods, to download GenBank records based on their identifier.\n",
    "\n",
    "We use the method *efetch* and we need to specify a few parameters:\n",
    "\n",
    "- the database we want to search into (db)\n",
    "- the type of results we would like (rettype)\n",
    "- the format of the download (retmode)\n",
    "- the accession number of the record (id)\n",
    "\n",
    "The code appears as follows:"
   ]
  },
  {
   "cell_type": "code",
   "execution_count": 3,
   "metadata": {
    "id": "CUINimdgSuoa"
   },
   "outputs": [],
   "source": [
    "result = Entrez.efetch(\n",
    "    db=\"nucleotide\", rettype=\"fasta\", retmode=\"text\", id=\"MW586689\"\n",
    ")"
   ]
  },
  {
   "cell_type": "markdown",
   "metadata": {
    "id": "zseZzJ8hSxZt"
   },
   "source": [
    "Once we have the result, we can *parse* (or *read*) our record: *parsing* means transforming this information into something usable.\n",
    "\n",
    "Sometimes parsing means converting a format into a readable one. In other cases, like the following, it means *extracting* some information from a more complex structure."
   ]
  },
  {
   "cell_type": "code",
   "execution_count": 4,
   "metadata": {
    "id": "H0JC3PiPTQKM"
   },
   "outputs": [],
   "source": [
    "seq_record = SeqIO.read(result, \"fasta\")"
   ]
  },
  {
   "cell_type": "markdown",
   "metadata": {
    "id": "xnhi_JC-TQz0"
   },
   "source": [
    "We can print some of the information we have *parsed* with the following code:"
   ]
  },
  {
   "cell_type": "code",
   "execution_count": 5,
   "metadata": {
    "id": "nXdOQztjTTJH"
   },
   "outputs": [
    {
     "name": "stdout",
     "output_type": "stream",
     "text": [
      "Sequence identifier MW586689.1 with fasta sequence of length 29842\n",
      "A taste of sequence is Seq('ACCAACCAACTTTCGATCTCTTGTAGATCTGTTCTCTAAACGAACTTTAAAATC...AAA')\n"
     ]
    }
   ],
   "source": [
    "print(\"Sequence identifier %s with fasta sequence of length %i\" % (seq_record.id, len(seq_record.seq)))\n",
    "print(\"A taste of sequence is %s\" % repr(seq_record.seq))"
   ]
  },
  {
   "cell_type": "markdown",
   "metadata": {
    "id": "GVRJ1LJmTVa1"
   },
   "source": [
    "Follow your teacher, for a more complete explanation of the code above.\n",
    "\n",
    "\n",
    "## GenBank records\n",
    "\n",
    "### Inspecting a single record\n",
    "\n",
    "In previous examples we have extracted the records in *fasta* format.\n",
    "Now we're going to extract them in *GenBank* format, i.e. containing all the features you have seen already on the website.\n",
    "\n",
    "For this we choose:\n",
    "\n",
    "- download from the *nucleotide* database\n",
    "- record type (rettype) equals *gb* (i.e. GenBank)\n",
    "- we select a text download (retmode)"
   ]
  },
  {
   "cell_type": "code",
   "execution_count": 6,
   "metadata": {
    "id": "XbU2Ww4LTWsm"
   },
   "outputs": [],
   "source": [
    "gbresult = Entrez.efetch(db=\"nucleotide\", rettype=\"gb\", retmode=\"text\", id=\"MW586689\")\n",
    "gb_record = SeqIO.read(gbresult, \"genbank\")"
   ]
  },
  {
   "cell_type": "markdown",
   "metadata": {
    "id": "k7MbCJZOTd2x"
   },
   "source": [
    "Now that we have fetched the record, and parsed the data, we can inspect the structure of the record we have downloaded, by printing the features:"
   ]
  },
  {
   "cell_type": "code",
   "execution_count": 7,
   "metadata": {
    "id": "Xp6pVI_ETfqE"
   },
   "outputs": [
    {
     "name": "stdout",
     "output_type": "stream",
     "text": [
      "[SeqFeature(SimpleLocation(ExactPosition(0), ExactPosition(29842), strand=1), type='source', qualifiers=...), SeqFeature(SimpleLocation(ExactPosition(235), ExactPosition(21516), strand=1), type='gene', qualifiers=...), SeqFeature(CompoundLocation([SimpleLocation(ExactPosition(235), ExactPosition(13429), strand=1), SimpleLocation(ExactPosition(13428), ExactPosition(21516), strand=1)], 'join'), type='CDS', location_operator='join', qualifiers=...), SeqFeature(SimpleLocation(ExactPosition(235), ExactPosition(775), strand=1), type='mat_peptide', qualifiers=...), SeqFeature(SimpleLocation(ExactPosition(775), ExactPosition(2689), strand=1), type='mat_peptide', qualifiers=...), SeqFeature(SimpleLocation(ExactPosition(2689), ExactPosition(8524), strand=1), type='mat_peptide', qualifiers=...), SeqFeature(SimpleLocation(ExactPosition(8524), ExactPosition(10024), strand=1), type='mat_peptide', qualifiers=...), SeqFeature(SimpleLocation(ExactPosition(10024), ExactPosition(10942), strand=1), type='mat_peptide', qualifiers=...), SeqFeature(SimpleLocation(ExactPosition(10942), ExactPosition(11803), strand=1), type='mat_peptide', qualifiers=...), SeqFeature(SimpleLocation(ExactPosition(11803), ExactPosition(12052), strand=1), type='mat_peptide', qualifiers=...), SeqFeature(SimpleLocation(ExactPosition(12052), ExactPosition(12646), strand=1), type='mat_peptide', qualifiers=...), SeqFeature(SimpleLocation(ExactPosition(12646), ExactPosition(12985), strand=1), type='mat_peptide', qualifiers=...), SeqFeature(SimpleLocation(ExactPosition(12985), ExactPosition(13402), strand=1), type='mat_peptide', qualifiers=...), SeqFeature(CompoundLocation([SimpleLocation(ExactPosition(13402), ExactPosition(13429), strand=1), SimpleLocation(ExactPosition(13428), ExactPosition(16197), strand=1)], 'join'), type='mat_peptide', location_operator='join', qualifiers=...), SeqFeature(SimpleLocation(ExactPosition(16197), ExactPosition(18000), strand=1), type='mat_peptide', qualifiers=...), SeqFeature(SimpleLocation(ExactPosition(18000), ExactPosition(19581), strand=1), type='mat_peptide', qualifiers=...), SeqFeature(SimpleLocation(ExactPosition(19581), ExactPosition(20619), strand=1), type='mat_peptide', qualifiers=...), SeqFeature(SimpleLocation(ExactPosition(20619), ExactPosition(21513), strand=1), type='mat_peptide', qualifiers=...), SeqFeature(SimpleLocation(ExactPosition(235), ExactPosition(13444), strand=1), type='CDS', qualifiers=...), SeqFeature(SimpleLocation(ExactPosition(235), ExactPosition(775), strand=1), type='mat_peptide', qualifiers=...), SeqFeature(SimpleLocation(ExactPosition(775), ExactPosition(2689), strand=1), type='mat_peptide', qualifiers=...), SeqFeature(SimpleLocation(ExactPosition(2689), ExactPosition(8524), strand=1), type='mat_peptide', qualifiers=...), SeqFeature(SimpleLocation(ExactPosition(8524), ExactPosition(10024), strand=1), type='mat_peptide', qualifiers=...), SeqFeature(SimpleLocation(ExactPosition(10024), ExactPosition(10942), strand=1), type='mat_peptide', qualifiers=...), SeqFeature(SimpleLocation(ExactPosition(10942), ExactPosition(11803), strand=1), type='mat_peptide', qualifiers=...), SeqFeature(SimpleLocation(ExactPosition(11803), ExactPosition(12052), strand=1), type='mat_peptide', qualifiers=...), SeqFeature(SimpleLocation(ExactPosition(12052), ExactPosition(12646), strand=1), type='mat_peptide', qualifiers=...), SeqFeature(SimpleLocation(ExactPosition(12646), ExactPosition(12985), strand=1), type='mat_peptide', qualifiers=...), SeqFeature(SimpleLocation(ExactPosition(12985), ExactPosition(13402), strand=1), type='mat_peptide', qualifiers=...), SeqFeature(SimpleLocation(ExactPosition(13402), ExactPosition(13441), strand=1), type='mat_peptide', qualifiers=...), SeqFeature(SimpleLocation(ExactPosition(13436), ExactPosition(13464), strand=1), type='stem_loop', qualifiers=...), SeqFeature(SimpleLocation(ExactPosition(13448), ExactPosition(13503), strand=1), type='stem_loop', qualifiers=...), SeqFeature(SimpleLocation(ExactPosition(21523), ExactPosition(25342), strand=1), type='gene', qualifiers=...), SeqFeature(SimpleLocation(ExactPosition(21523), ExactPosition(25342), strand=1), type='CDS', qualifiers=...), SeqFeature(SimpleLocation(ExactPosition(25350), ExactPosition(26178), strand=1), type='gene', qualifiers=...), SeqFeature(SimpleLocation(ExactPosition(25350), ExactPosition(26178), strand=1), type='CDS', qualifiers=...), SeqFeature(SimpleLocation(ExactPosition(26202), ExactPosition(26430), strand=1), type='gene', qualifiers=...), SeqFeature(SimpleLocation(ExactPosition(26202), ExactPosition(26430), strand=1), type='CDS', qualifiers=...), SeqFeature(SimpleLocation(ExactPosition(26480), ExactPosition(27149), strand=1), type='gene', qualifiers=...), SeqFeature(SimpleLocation(ExactPosition(26480), ExactPosition(27149), strand=1), type='CDS', qualifiers=...), SeqFeature(SimpleLocation(ExactPosition(27159), ExactPosition(27345), strand=1), type='gene', qualifiers=...), SeqFeature(SimpleLocation(ExactPosition(27159), ExactPosition(27345), strand=1), type='CDS', qualifiers=...), SeqFeature(SimpleLocation(ExactPosition(27351), ExactPosition(27717), strand=1), type='gene', qualifiers=...), SeqFeature(SimpleLocation(ExactPosition(27351), ExactPosition(27717), strand=1), type='CDS', qualifiers=...), SeqFeature(SimpleLocation(ExactPosition(27713), ExactPosition(27845), strand=1), type='gene', qualifiers=...), SeqFeature(SimpleLocation(ExactPosition(27713), ExactPosition(27845), strand=1), type='CDS', qualifiers=...), SeqFeature(SimpleLocation(ExactPosition(27851), ExactPosition(27932), strand=1), type='gene', qualifiers=...), SeqFeature(SimpleLocation(ExactPosition(27851), ExactPosition(27932), strand=1), type='CDS', qualifiers=...), SeqFeature(SimpleLocation(ExactPosition(28230), ExactPosition(29490), strand=1), type='gene', qualifiers=...), SeqFeature(SimpleLocation(ExactPosition(28230), ExactPosition(29490), strand=1), type='CDS', qualifiers=...), SeqFeature(SimpleLocation(ExactPosition(29514), ExactPosition(29631), strand=1), type='gene', qualifiers=...), SeqFeature(SimpleLocation(ExactPosition(29514), ExactPosition(29631), strand=1), type='CDS', qualifiers=...), SeqFeature(SimpleLocation(ExactPosition(29565), ExactPosition(29601), strand=1), type='stem_loop', qualifiers=...), SeqFeature(SimpleLocation(ExactPosition(29585), ExactPosition(29614), strand=1), type='stem_loop', qualifiers=...), SeqFeature(SimpleLocation(ExactPosition(29684), ExactPosition(29725), strand=1), type='stem_loop', qualifiers=...)]\n"
     ]
    }
   ],
   "source": [
    "print(str(gb_record.features))"
   ]
  },
  {
   "cell_type": "markdown",
   "metadata": {
    "id": "y29Iye9LThSm"
   },
   "source": [
    "Now, this is a bit difficult to read.\n",
    "\n",
    "So let's have a look at the first one:"
   ]
  },
  {
   "cell_type": "code",
   "execution_count": 8,
   "metadata": {
    "id": "gd_ZY0gKTjD1"
   },
   "outputs": [
    {
     "name": "stdout",
     "output_type": "stream",
     "text": [
      "type: source\n",
      "location: [0:29842](+)\n",
      "qualifiers:\n",
      "    Key: collection_date, Value: ['2021-01-16']\n",
      "    Key: country, Value: ['USA: California']\n",
      "    Key: db_xref, Value: ['taxon:2697049']\n",
      "    Key: host, Value: ['Homo sapiens']\n",
      "    Key: isolate, Value: ['SARS-CoV-2/human/USA/CA-CDC-STM-000003165/2021']\n",
      "    Key: isolation_source, Value: ['Nasal Swabs']\n",
      "    Key: mol_type, Value: ['genomic RNA']\n",
      "    Key: organism, Value: ['Severe acute respiratory syndrome coronavirus 2']\n",
      "\n"
     ]
    }
   ],
   "source": [
    "print(str(gb_record.features[0]))"
   ]
  },
  {
   "cell_type": "markdown",
   "metadata": {
    "id": "4YmdwGRxTkmF"
   },
   "source": [
    "We understand a little better the structure now. This feature has three objects, i.e. identified by the names printed without indentation:\n",
    "\n",
    "- type\n",
    "- location\n",
    "- qualifiers\n",
    "\n",
    "Then, the object qualifier is a dictionary: I can understand this because of the *key* - *value* pair structure.\n",
    "\n",
    "Therefore, if I wanted to grab the host organism I'd print:"
   ]
  },
  {
   "cell_type": "code",
   "execution_count": 9,
   "metadata": {
    "id": "bK37FtOJTnNe"
   },
   "outputs": [
    {
     "name": "stdout",
     "output_type": "stream",
     "text": [
      "['Homo sapiens']\n"
     ]
    }
   ],
   "source": [
    "print(str(gb_record.features[0].qualifiers[\"host\"]))"
   ]
  },
  {
   "cell_type": "markdown",
   "metadata": {
    "id": "fmtd8r95To0T"
   },
   "source": [
    "\n",
    "### Fetching multiple records\n",
    "\n",
    "If we pass a list to the *id* parameters, this will fetch records corresponding to each of the accession numbers we have passed.\n",
    "\n",
    "In order to simplify the inspection of the data, we're fetching some proteins from the protein database instead of nucleotide."
   ]
  },
  {
   "cell_type": "code",
   "execution_count": 10,
   "metadata": {
    "id": "jsbWjouqTve7"
   },
   "outputs": [],
   "source": [
    "protein_list = Entrez.efetch(db=\"protein\", rettype=\"fasta\", retmode=\"text\", id=\"QRK24690,QRO03507,QRU93410,QRI43434,QRX39425,QRD95445,QRC42505,QRF69711\")"
   ]
  },
  {
   "cell_type": "markdown",
   "metadata": {
    "id": "_7r7wJTNTwUg"
   },
   "source": [
    "\n",
    "When we have multiple records to parse, we don't use the method *read* but we need to use the method *parse*, which loops through each of them:"
   ]
  },
  {
   "cell_type": "code",
   "execution_count": 11,
   "metadata": {
    "id": "BuUjAotdTy8R"
   },
   "outputs": [],
   "source": [
    "records = SeqIO.parse(protein_list, \"fasta\")"
   ]
  },
  {
   "cell_type": "markdown",
   "metadata": {
    "id": "y7uq0r1-T0aW"
   },
   "source": [
    "Now our *records* is an iterable object, which we can loop through in a for loop:"
   ]
  },
  {
   "cell_type": "code",
   "execution_count": 12,
   "metadata": {
    "id": "sv2XN7QWT3Us"
   },
   "outputs": [
    {
     "name": "stdout",
     "output_type": "stream",
     "text": [
      "QRK24690.1\n",
      "MFVFLVLLPLVSSQCVNLTTRTQLPPAYTNSFTRGVYYPDKVFRSSVLHSTQDLFLPFFSNVTWFHAXXXSGTNGTKRFDNPVLPFNDGVYFASTEKSNIIRGWIFGTTLDSKTQSLLIVNNATNVVIKVCEFQFCNDPFLGVYHKNNKSWMESEFRVYSSANNCTFEYVSQPFLMDLEGKQGNFKNLREFVFKNIDGYFKIYSKHTPINLVRDLPQGFSALEPLVDLPIGINITRFQTLLALHRSYLTPGDSSSGWTAGAAAYYVGYLQPRTFLLKYNENGTITDAVDCALDPLSETKCTLKSFTVEKGIYQTSNFRVQPTESIVRFPNITNLCPFGEVFNATRFASVYAWNRKRISNCVADYSVLYNSASFSTFKCYGVSPTKLNDLCFTNVYADSFVIRGDEVRQIAPGQTGKIADYNYKLPDDFTGCVIAWNSNNLDSKVGGNYNYLYRLFRKSNLKPFERDISTEIYQAGSTPCNGVEGFNCYFPLQSYGFQPTYGVGYQPYRVVVLSFELLHAPATVCGPKKSTNLVKNKCVNFNFNGLTGTGVLTESNKKFLPFQQFGRDIDDTTDAVRDPQTLEILDITPCSFGGVSVITPGTNTSNQVAVLYQGVNCTEVPVAIHADQLTPTWRVYSTGSNVFQTRAGCLIGAEHVNNSYECDIPIGAGICASYQTQTNSHRRARSVASQSIIAYTMSLGAENSVAYSNNSIAIPINFTISVTTEILPVSMTKTSVDCTMYICGDSTECSNLLLQYGSFCTQLNRALTGIAVEQDKNTQEVFAQVKQIYKTPPIKDFGGFNFSQILPDPSKPSKRSFIEDLLFNKVTLADAGFIKQYGDCLGDIAARDLICAQKFNGLTVLPPLLTDEMIAQYTSALLAGTITSGWTFGAGAALQIPFAMQMAYRFNGIGVTQNVLYENQKLIANQFNSAIGKIQDSLSSTASALGKLQDVVNQNAQALNTLVKQLSSNFGAISSVLNDILARLDKVEAEVQIDRLITGRLQSLQTYVTQQLIRAAEIRASANLAATKMSECVLGQSKRVDFCGKGYHLMSFPQSAPHGVVFLHVTYVPAQEKNFTTAPAICHDGKAHFPREGVFVSNGTHWFVTQRNFYEPQIITTHNTFVSGNCDVVIGIVNNTVYDPLQPELDSFKEELDKYFKNHTSPDVDLGDISGINASVVNIQKEIDRLNEVAKNLNESLIDLQELGKYEQYIKWPWYIWLGFIAGLIAIVMVTIMLCCMTSCCSCLKGCCSCGSCCKFDEDDSEPVLKGVKLHYT\n",
      "QRO03507.1\n",
      "MFVFLVLLPLVSSQCVNLTTRTQLPPAYTNSFTRGVYYPDKVFRSSVLHSTQDLFLPFFSNVTWFHAISGTNGTKRFDNPVLPFNDGVYFASTEKSNIIRGWIFGTTLDSKTQSLLIVNNATNVVIKVCEFQFCNDPFLGVYHKNNKSWMESEFRVYSSANNCTFEYVSQPFLMDLEGKQGNFKNLREFVFKNIDGYFKIYSKHTPINLVRDLPQGFSALEPLVDLPIGINITRFQTLLALHRSYLTPGDSSSGWTAGAAAYYXXXXXXXXXXXXXXXXGTITXAVDXXXXXXXXXXXXXXXXXXXXXXXXXXXXXXQPTESIVRFPNITNLCPFGEVFNATRFASVYAWNRKRISNCVADYSVLYNSASFSTFKCYGVSPTKLNDLCFTNVYADSFVIRGDEVRQIAPGQTGKIADYNYKLPDDFTGCVIAWNSNNLDSKVGGNYNYLYRLFRKSNLKPFERDISTEIYQAGSTPCNGVEGFNCYFPLQSYGFQPTYGVGYQPYRVVVLSFELLHAPATVCGPKKSTNLVKNKCVNFNFNGLTGTGVLTESNKKFLPFQQFGRDIDDTTDAVRDPQTLEILDITPCSFGGVSVITPGTNTSNQVAVLYQGVNCTEVPVAIHADQLTPTWRVYSTGSNVFQTRAGCLIGAEHVNNSYECDIPIGAGICASYQTQTNSHRRARSVASQSIIAYTMSLGAENSVAYSNNSIAIPINFTISVTTEILPVSMTKTSVDCTMYICGDSTECSNLLLQYGSFCTQLNRALTGIAVEQDKNTQEVFAQVKQIYKTPPIKDFGGFNFSQILPDPSKPSKRSFIEDLLFNKVTLADAGFIKQYGDCLGDIAARDLICAQKFNGLTVLPPLLTDEMIAQYTSALLAGTITSGWTFGAGAALQIPFAMQMAYRFNGIGVTQNVLYENQKLIANQFNSAIGKIQDSLSSTASALGKLQDVVNQNAQALNTLVKQLSSNFGAISSVLNDILARLDKVEAEVQIDRLITGRLQSLQTYVTQQLIRAAEIRASANLAATKMSECVLGQSKRVDFCGKGYHLMSFPQSAPHGVVFLHVTYVPAQEKNFTTAPAICHDGKAHFPREGVFVSNGTHWFVTQRNFYEPQIITTHNTFVSGNCDVVIGIVNNTVYDPLQPELDSFKEELDKYFKNHTSPDVDLGDISGINASVVNIQKEIDRLNEVAKNLNESLIDLQELGKYEQYIKWPWYIWLGFIAGLIAIVMVTIMLCCMTSCCSCLKGCCSCGSCCKFDEDDSEPVLKGVKLHYT\n",
      "QRU93410.1\n",
      "MFVFLVLLPLVSSQCVNLITRTQLPPAYTNSFTRGVYYPDKVFRSSVLHSTQDLFLPFFSNVTWFHAIHVSGTNGTKRFANPVLPFNDGVYFASTEKSNIIRGWIFGTTLDSKTQSLLIVNNATNVVIKVCEFQFCNDPFLGVYYHKNNKSWMESEFRVYSSANNCTFEYVSQPFLMDLEGKQGNFKNLREFVFKNIDGYFKIYSKHTPINLVRGLPQGFSALEPLVDLPIGINITRFQTLHRSYLTPGDSSSGWTAGAAAYYVGYLQPRTFLLKYNENGTITDAVDCALDPLSETKCTLKSFTVEKGIYQTSNFRVQPTESIVRFPNITNLCPFGEVFNATRFASVYAWNRKRISNCVADYSVLYNSASFSTFKCYGVSPTKLNDLCFTNVYADSFVIRGDEVRQIAPGQTGNIADYNYKLPDDFTGCVIAWNSNNLDSKVGGNYNYLYRLFRKSNLKPFERDISTEIYQAGSTPCNGVKGFNCYFPLQSYGFQPTYGVGYQPYRVVVLSFELLHAPATVCGPKKSTNLVKNKCVNFNFNGLTGTGVLTESNKKFLPFQQFGRDIADTTDAVRDPQTLEILDITPCSFGGVSVITPGTNTSNQVAVLYQGVNCTEVPVAIHADQLTPTWRVYSTGSNVFQTRAGCLIGAEHVNNSYECDIPIGAGICASYQTQTNSPRRARSVASQSIIAYTMSLGVENSVAYSNNSIAIPTNFTISVTTEILPVSMTKTSVDCTMYICGDSTECSNLLLQYGSFCTQLNRALTGIAVEQDKNTQEVFAQVKQIYKTPPIKDFGGFNFSQILPDPSKPSKRSFIEDLLFNKVTLADAGFIKQYGDCLGDIAARDLICAQKFNGLTVLPPLLTDEMIAQYTSALLAGTITSGWTFGAGAALQIPFAMQMAYRFNGIGVTQNVLYENQKLIANQFNSAIGKIQDSLSSTASALGKLQDVVNQNAQALNTLVKQLSSNFGAISSVLNDILSRLDKVEAEVQIDRLITGRLQSLQTYVTQQLIRAAEIRASANLAATKMSECVLGQSKRVDFCGKGYHLMSFPQSAPHGVVFLHVTYVPAQEKNFTTAPAICHDGKAHFPREGVFVSNGTHWFVTQRNFYEPQIITTDNTFVSGNCDVVIGIVNNTVYDPLQPELDSFKEELDKYFKNHTSPDVDLGDISGINASVVNIQKEIDRLNEVAKNLNESLIDLQELGKYEQYIKWPWYIWLGFIAGLIAIVMVTIMLCCMTSCCSCLKGCCSCGSCCKFDEDDSEPVLKGVKLHYT\n",
      "QRI43434.1\n",
      "MFVFLVLLPLVSSQCVNFTTRTQLPPAYTNSFTRGVYYPDKVFRSSVLHSTQDLFLPFFSNVTWFHAIHVSGTNGTKRFANPVLPFNDGVYFASTEKSNIIRGWIFGTTLDSKTQSLLIVNNATNVVIKVCEFQFCNDPFLGVYYHKNNKSWMESEFRVYSSANNCTFEYVSQPFLMDLEGKQGNFKNLREFVFKNIDGYFKIYSKHTPINLVRGLPQGFSALEPLVDLPIGINITRFQTLHRSYLTPGDSSSGWTAGAAAYYVGYLQPRTFLLKYNENGTITDAVDXXXXXXXXXXXXXXXXXXXXXXXXXXXXXXXPTESIVRFPNITNLCPFGEVFNATRFASVYAWNRKRISNCVADYSVLYNSASFSTFKCYGVSPTKLNDLCFTNVYADSFVIRGDEVRQIAPGQTGNIADYNYKLPDDFTGCVIAWNSNNLDSKVGGNYNYLYRLFRKSNLKPFERDISTEIYQAGSTPCNGVKGFNCYFPLQSYGFQPTYGVGYQPYRVVVLSFELLHAPATVCGPKKSTNLVKNKCVNFNFNGLTGTGVLTESNKKFLPFQQFGRDIADTTDAVRDPQTLEILDITPCSFGGVSVITPGTNTSNQVAVLYQGVNCTEVPVAIHADQLTPTWRVYSTGSNVFQTRAGCLIGAEHVNNSYECDIPIGAGICASYQTQTNSPRRARSVASQSIIAYTMSLGVENSVAYSNNSIAIPTNFTISVTTEILPVSMTKTSVDCTMYICGDSTECSNLLLQYGSFCTQLNRALTGIAVEQDKNTQEVFAQVKQIYKTPPIKDFGGFNFSQILPDPSKPSKRSFIEDLLFNKVTLADAGFIKQYGDCLGDIAARDLICAQKFNGLTVLPPLLTDEMIAQYTSALLAGTITSGWTFGAGAALQIPFAMQMAYRFNGIGVTQNVLYENQKLIANQFNSAIGKIQDSLSSTASALGKLQDVVNQNAQALNTLVKQLSSNFGAISSVLNDILSRLDKVEAEVQIDRLITGRLQSLQTYVTQQLIRAAEIRASANLAATKMSECVLGQSKRVDFCGKGYHLMSFPQSAPHGVVFLHVTYVPAQEKNFTTAPAICHDGKAHFPREGVFVSNGTHWFVTQRNFYEPQIITTDNTFVSGNCDVVIGIVNNTVYDPLQPELDSFKEELDKYFKNHTSPDVDLGDISGINASVVNIQKEIDRLNEVAKNLNESLIDLQELGKYEQYIKWPWYIWLGFIAGLIAIVMVTIMLCCMTSCCSCLKGCCSCGSCCKFDEDDSEPVLKGVKLHYT\n",
      "QRX39425.1\n",
      "MFVFLVLLPLVSSQCVNFTNRTQLPSAYTNSFTRGVYYPDKVFRSSVLHSTQDLFLPFFSNVTWFHAIHVSGTNGTKRFDNPVLPFNDGVYFASTEKSNIIRGWIFGTTLDSKTQSLLIVNNATNVVIKVCEFQFCNYPFLGVYYHKNNKSWMESEFRVYSSANNCTFEYVSQPFLMDLEGKQGNFKNLSEFVFKNIDGYFKIYSKHTPINLVRDLPQGFSALEPLVDLPIGINITRFQTLLALHRSYLTPGDSSSGWTAGAAAYYVGYLQPRTFLLKYNENGTITDAVDCALDPLSETKCTLKSFTVEKGIYQTSNFRVQPTESIVRFPNITNLCPFGEVFNATRFASVYAWNRKRISNCVADYSVLYNSASFSTFKCYGVSPTKLNDLCFTNVYADSFVIRGDEVRQIAPGQTGTIADYNYKLPDDFTGCVIAWNSNNLDSKVGGNYNYLYRLFRKSNLKPFERDISTEIYQAGSTPCNGVKGFNCYFPLQSYGFQPTYGVGYQPYRVVVLSFELLHAPATVCGPKKSTNLVKNKCVNFNFNGLTGTGVLTESNKKFLPFQQFGRDIADTTDAVRDPQTLEILDITPCSFGGVSVITPGTNTSNQVAVLYQGVNCTEVPVAIHADQLTPTWRVYSTGSNVFQTRAGCLIGAEYVNNSYECDIPIGAGICASYQTQTNSPRRARSVASQSIIAYTMSLGAENSVAYSNNSIAIPTNFTISVTTEILPVSMTKTSVDCTMYICGDSTECSNLLLQYGSFCTQLNRALTGIAVEQDKNTQEVFAQVKQIYKTPPIKDFGGFNFSQILPDPSKPSKRSFIEDLLFNKVTLADAGFIKQYGDCLGDIAARDLICAQKFNGLTVLPPLLTDEMIAQYTSALLAGTITSGWTFGAGAALQIPFAMQMAYRFNGIGVTQNVLYENQKLIANQFNSAIGKIQDSLSSTASALGKLQDVVNQNAQALNTLVKQLSSNFGAISSVLNDILSRLDKVEAEVQIDRLITGRLQSLQTYVTQQLIRAAEIRASANLAAIKMSECVLGQSKRVDFCGKGYHLMSFPQSAPHGVVFLHVTYVPAQEKNFTTAPAICHDGKAHFPREGVFVSNGTHWFVTQRNFYEPQIITTDNTFVSGNCDVVIGIVNNTVYDPLQPELDSFKEELDKYFKNHTSPDVDLGDISGINASFVNIQKEIDRLNEVAKNLNESLIDLQELGKYEQYIKWPWYIWLGFIAGLIAIVMVTIMLCCMTSCCSCLKGCCSCGSCCKFDEDDSEPVLKGVKLHYT\n",
      "QRD95445.1\n",
      "MFVFLVLLPLVSSQCVNFTNRTQLPSAYTNSFTRGVYYPDKVFRSSVLHSTQDLFLPFFSNVTWFHAIHVSGTNGTKRFDNPVLPFNDGVYFASTEKSNIIRGWIFGTTLDSKTQSLLIVNNATNVVIKVCEFQFCNYPFLGVYYHKNNKSWMESEFRVYSSANNCTFEYVSQPFLMDLEGKQGNFKNLSEFVFKNIDGYFKIYSKHTPINLVRDLPQGFSALEPLVDLPIGINITRFQTLLALHRSYLTPGDSSSGWTAXXXXXXXXXXXXXXXXXXXXXXXXXXXAVDXXXXXLSEXXXXXXXFTVEKGIYQTSNFRVQPTESIVRFPNITNLCPFGEVFNATRFASVYAWNRKRISNCVADYSVLYNSASFSTFKCYGVSPTKLNDLCFTNVYADSFVIRGDEVRQIAPGQTGTIADYNYKLPDDFTGCVIAWNSNNLDSKVGGNYNYLYRLFRKSNLKPFERDISTEIYQAGSTPCNGVKGFNCYFPLQSYGFQPTYGVGYQPYRVVVLSFELLHAPATVCGPKKSTNLVKNKCVNFNFNGLTGTGVLTESNKKFLPFQQFGRDIADTTDAVRDPQTLEILDITPCSFGGVSVITPGTNTSNQVAVLYQGVNCTEVPVAIHADQLTPTWRVYSTGSNVFQTRAGCLIGAEYVNNSYECDIPIGAGICASYQTQTNSPRRARSVASQSIIAYTMSLGAENSVAYSNNSIAIPTNFTISVTTEILPVSMTKTSVDCTMYICGDSTECSNLLLQYGSFCTQLNRALTGIAVEQDKNTQEVFAQVKQIYKTPPIKDFGGFNFSQILPDPSKPSKRSFIEDLLFNKVTLADAGFIKQYGDCLGDIAARDLICAQKFNGLTVLPPLLTDEMIAQYTSALLAGTITSGWTFGAGAALQIPFAMQMAYRFNGIGVTQNVLYENQKLIANQFNSAIGKIQDSLSSTASALGKLQDVVNQNAQALNTLVKQLSSNFGAISSVLNDILSRLDKVEAEVQIDRLITGRLQSLQTYVTQQLIRAAEIRASANLAAIKMSECVLGQSKRVDFCGKGYHLMSFPQSAPHGVVFLHVTYVPAQEKNFTTAPAICHDGKAHFPREGVFVSNGTHWFVTQRNFYEPQIITTDNTFVSGNCDVVIGIVNNTVYDPLQPELDSFKEELDKYFKNHTSPDVDLGDISGINASFVNIQKEIDRLNEVAKNLNESLIDLQELGKYEQYIKWPWYIWLGFIAGLIAIVMVTIMLCCMTSCCSCLKGCCSCGSCCKFDEDDSEPVLKGVKLHYT\n",
      "QRC42505.1\n",
      "MFVFLVLLPLVSIQCVNLTTRTQLPSAYTNSFTRGVYYPDKVFRSSVLHSTQDLFLPFFSNVTWFHAIHVSGTNGTKRFDNPVLPFNDGVYFASTEKSNIIRGWIFGTTLDSKTQSLLIVNNATNVVIKVCEFQFCNDPFLGVYYHKNNKSCMESEFRVYSSANNCTFEYVSQPFLMDLEGKQGNFKNLREFVFKNIDGYFKIYSKHTPINLVRDLPQGFSALEPLVDLPIGINITRFQTLLALHRSYLTPGDSSSGWTAGAAAYYVGYLQPRTFLLKYNENGTITDAVDCALDPLSETKCTLKSFTVEKGIYQTSNFRVQPTESIVRFPNITNLCPFGEVFNATRFASVYAWNRKRISNCVADYSVLYNSASFSTFKCYGVSPTKLNDLCFTNVYADSFVIRGDEVRQIAPGQTGKIADYNYKLPDDFTGCVIAWNSNNLDSKVGGNYNYRYRLFRKSNLKPFERDISTEIYQAGSTPCNGVEGFNCYFPLQSYGFQPTNGVGYQPYRVVVLSFELLHAPATVCGPKKSTNLVKNKCVNFNFNGLTGTGVLTESNKKFLPFQQFGRDIADTTDAVRDPQTLEILDITPCSFGGVSVITPGTNTSNQVAVLYQGVNCTEVPVAIHADQLTPTWRVYSTGSNVFQTRAGCLIGAEHVNNSYECDIPIGAGICASYQTQTNSPRRARSVASQSIIAYTMSLGAENSVAYSNNSIAIPTNFTISVTTEILPVSMTKTSVDCTMYICGDSTECSNLLLQYGSFCTQLNRALTGIAVEQDKNTQEVFAQVKQIYKTPPIKDFGGFNFSQILPDPSKPSKRSFIEDLLFNKVTLADAGFIKQYGDCLGDIAARDLICAQKFNGLTVLPPLLTDEMIAQYTSALLAGTITSGWTFGAGAALQIPFAMQMAYRFNGIGVTQNVLYENQKLIANQFNSAIGKIQDSLSSTASALGKLQDVVNQNAQALNTLVKQLSSNFGAISSVLNDILSRLDKVEAEVQIDRLITGRLQSLQTYVTQQLIRAAEIRASANLAATKMSECVLGQSKRVDFCGKGYHLMSFPQSAPHGVVFLHVTYVPAQEKNFTTAPAICHDGKAHFPREGVFVSNGTHWFVTQRNFYEPQIITTDNTFVSGNCDVVIGIVNNTVYDPLQPELDSFKEELDKYFKNHTSPDVDLGDISGINASVVNIQKEIDRLNEVAKNLNESLIDLQELGKYEQYIKWPWYIWLGFIAGLIAIVMVTIMLCCMTSCCSCLKGCCSCGSCCKFDEDDSEPVLKGVKLHYT\n",
      "QRF69711.1\n",
      "MFVFLVLLPLVSIQCVNLTTRTQLPPAYTNSFTRGVYYPDKVFRSSVLHSTQDLFLPFFSNVTWFHAIHVSGTNGTKRFDNPVLPFNDGVYFASTEKSNIIRGWIFGTTLDSKTQSXXXXXXXXXXXXXXXXXXXXXXXXXXXYYHKNNKSCMESEFRVYSSANNCTFEYVSQPFLMDLEGKQGNFKNLREFVFKNIDGYFKIYSKHTPINLVRDLPQGFSALEPLVDLPIGINITRFQTLLALHRSYLTPGDSSSGWTAGAAAYYVGYLQPRTFLLKYNENGTITDAVDCALDPLSETKCTLKSFTVEKGIYQTSNFRVQPTESIVRFPNITNLCPFGEVFNATRFASVYAWNRKRISNCVADYSVLYNSASFSTFKCYGVSPTKLNDLCFTNVYADSFVIRGDEVRQIAPGQTGKIADYNYKLPDDFTGCVIAWNSNNLDSKVGGNYNYRYRLFRKSNLKPFERDISTEIYQAGSTPCNGVEGFNCYFPLQSYGFQPTNGVGYQPYRVVVLSFELLHAPATVCGPKKSTNLVKNKCVNFNFNGLTGTGVLTESNKKFLPFQQFGRDIADTTDAVRDPQTLEILDITPCSFGGVSVITPGTNTSNQVAVLYQGVNCTEVPVAIHADQLTPTWRVYSTGSNVFQTRAGCLIGAEHVNNSYECDIPIGAGICASYQTQTNSPRRARSVASQSIIAYTMSLGAENSVAYSNNSIAIPTNFTISVTTEILPVSMTKTSVDCTMYICGDSTECSNLLLQYGSFCTQLNRALTGIAVEQDKNTQEVFAQVKQIYKTPPIKDFGGFNFSQILPDPSKPSKRSFIEDLLFNKVTLADAGFIKQYGDCLGDIAARDLICAQKFNGLTVLPPLLTDEMIAQYTSALLAGTITSGWTFGAGAALQIPFAMQMAYRFNGIGVTQNVLYENQKLIANQFNSAIGKIQDSLSSTASALGKLQDVVNQNAQALNTLVKQLSSNFGAISSVLNDILSRLDKVEAEVQIDRLITGRLQSLQTYVTQQLIRAAEIRASANLAATKMSECVLGQSKRVDFCGKGYHLMSFPQSAPHGVVFLHVTYVPAQEKNFTTAPAICHDGKAHFPREGVFVSNGTHWFVTQRNFYEPQIITTDNTFVSGNCDVVIGIVNNTVYDPLQPELDSFKEELDKYFKNHTSPDVDLGDISGINASVVNIQKEIDRLNEVAKNLNESLIDLQELGKYEQYIKWPWYIWLGFIAGLIAIVMVTIMLCCMTSCCSCLKGCCSCGSCCKFDEDDSEPVLKGVKLHYT\n"
     ]
    }
   ],
   "source": [
    "for protein in records:\n",
    "  print(\"%s\" % protein.id)\n",
    "  print(\"%s\" % protein.seq)"
   ]
  },
  {
   "cell_type": "markdown",
   "metadata": {
    "id": "eJOdCCVbT4YA"
   },
   "source": [
    "If we wanted to download the fasta sequence of all these records, we'd simply write the following code.\n",
    "Follow your teacher for a detailed explanation:"
   ]
  },
  {
   "cell_type": "code",
   "execution_count": 13,
   "metadata": {
    "id": "Xu9KOOUwT57c"
   },
   "outputs": [
    {
     "name": "stdout",
     "output_type": "stream",
     "text": [
      ">QRK24690.1\n",
      "Seq('MFVFLVLLPLVSSQCVNLTTRTQLPPAYTNSFTRGVYYPDKVFRSSVLHSTQDL...HYT')\n",
      "\n",
      ">QRO03507.1\n",
      "Seq('MFVFLVLLPLVSSQCVNLTTRTQLPPAYTNSFTRGVYYPDKVFRSSVLHSTQDL...HYT')\n",
      "\n",
      ">QRU93410.1\n",
      "Seq('MFVFLVLLPLVSSQCVNLITRTQLPPAYTNSFTRGVYYPDKVFRSSVLHSTQDL...HYT')\n",
      "\n",
      ">QRI43434.1\n",
      "Seq('MFVFLVLLPLVSSQCVNFTTRTQLPPAYTNSFTRGVYYPDKVFRSSVLHSTQDL...HYT')\n",
      "\n",
      ">QRX39425.1\n",
      "Seq('MFVFLVLLPLVSSQCVNFTNRTQLPSAYTNSFTRGVYYPDKVFRSSVLHSTQDL...HYT')\n",
      "\n",
      ">QRD95445.1\n",
      "Seq('MFVFLVLLPLVSSQCVNFTNRTQLPSAYTNSFTRGVYYPDKVFRSSVLHSTQDL...HYT')\n",
      "\n",
      ">QRC42505.1\n",
      "Seq('MFVFLVLLPLVSIQCVNLTTRTQLPSAYTNSFTRGVYYPDKVFRSSVLHSTQDL...HYT')\n",
      "\n",
      ">QRF69711.1\n",
      "Seq('MFVFLVLLPLVSIQCVNLTTRTQLPPAYTNSFTRGVYYPDKVFRSSVLHSTQDL...HYT')\n",
      "\n"
     ]
    }
   ],
   "source": [
    "protein_list = Entrez.efetch(db=\"protein\", rettype=\"fasta\", retmode=\"text\", id=\"QRK24690,QRO03507,QRU93410,QRI43434,QRX39425,QRD95445,QRC42505,QRF69711\")\n",
    "records = SeqIO.parse(protein_list, \"fasta\")\n",
    "handle = open(\"input.fasta\", mode='a')\n",
    "for record in records:\n",
    "  handle.write(\">%s\\n%s\\n\" % (record.id, record.seq))\n",
    "  print(\">%s\\n%s\\n\" % (record.id, repr(record.seq)))"
   ]
  },
  {
   "cell_type": "markdown",
   "metadata": {
    "id": "3ZjKV_96T9yH"
   },
   "source": [
    "\n",
    "In the example above, we have downloaded protein sequences.\n",
    "\n",
    "Let's inspect again a GenBank record though, at [this link](https://www.ncbi.nlm.nih.gov/nuccore/MW662150)\n",
    "\n",
    "Actually, the translation of the spike protein is already present in the whole genome record.\n",
    "\n",
    "We just need to find a way to extract it.\n",
    "\n",
    "Let's write a function for it.\n",
    "Follow your teacher for a detailed explanation of the choices in the code:"
   ]
  },
  {
   "cell_type": "code",
   "execution_count": 14,
   "metadata": {
    "id": "yfSgFjJJUAPF"
   },
   "outputs": [],
   "source": [
    "def get_spike_from_gb(record):\n",
    "    for feature in record.features:\n",
    "        if feature.type == \"CDS\" and 'S' in feature.qualifiers.get(\"gene\"):\n",
    "            identifier = feature.qualifiers.get(\"protein_id\")[0]\n",
    "            sequence = feature.qualifiers.get(\"translation\")[0]\n",
    "            results = [record.id, identifier, sequence]\n",
    "            #print(\"for genome %s we got protein %s with sequence\\n%s\\n\" % (record.id, identifier, sequence))\n",
    "            return results"
   ]
  },
  {
   "cell_type": "markdown",
   "metadata": {
    "id": "gRZ2C11CUCsk"
   },
   "source": [
    "\n",
    "Now we just have to apply it.\n",
    "\n",
    "First we get some genome records."
   ]
  },
  {
   "cell_type": "code",
   "execution_count": 15,
   "metadata": {
    "id": "mS781_uRUEWI"
   },
   "outputs": [],
   "source": [
    "gbresultList = Entrez.efetch(db=\"nucleotide\", rettype=\"gb\", retmode=\"text\", id=\"MW662150,MW662159,MW642248,MW621433,MW580576\")\n",
    "recordsList = SeqIO.parse(gbresultList, \"genbank\")"
   ]
  },
  {
   "cell_type": "markdown",
   "metadata": {
    "id": "bDiwLombUGAG"
   },
   "source": [
    "Then we loop through them, we extract the S protein and we write them in a file."
   ]
  },
  {
   "cell_type": "code",
   "execution_count": 16,
   "metadata": {
    "id": "0Ik15DfuUIt0"
   },
   "outputs": [
    {
     "name": "stdout",
     "output_type": "stream",
     "text": [
      "Spike values: ['MW662150.1', 'QSD58663.1', 'MFVFLVLLPLVSSQCVNLTTRTQLPPAYTNSFTRGVYYPDKVFRSSVLHSTQDLFLPFFSNVTWFHAISGTNGTKRFDNPVLPFNDGVYFASTEKSNIIRGWIFGTTLDSKTQSLLIVNNATNVVIKVCEFQFCNDPFLGVYHKNNKSWMESEFRVYSSANNCTFEYVSQPFLMDLEGKQGNFKNLREFVFKNIDGYFKIYSKHTPINLVRDLPQGFSALEPLVDLPIGINITRFQTLLALHRSYLTPGDSSSGWTAGAAAYYVGYLQPRTFLLKYNENGTITDAVDCALDPLSETKCTLKSFTVEKGIYQTSNFRVQPTESIVRFPNITNLCPFGEVFNATRFASVYAWNRKRISNCVADYSVLYNSASFSTFKCYGVSPTKLNDLCFTNVYADSFVIRGDEVRQIAPGQTGKIADYNYKLPDDFTGCVIAWNSNNLDSKVGGNYNYLYRLFRKSNLKPFERDISTEIYQAGSTPCNGVEGFNCYFPLQSYGFQPTYGVGYQPYRVVVLSFELLHAPATVCGPKKSTNLVKNKCVNFNFNGLTGTGVLTESNKKFLPFQQFGRDIDDTTDAVRDPQTLEILDITPCSFGGVSVITPGTNTSNQVAVLYQGVNCTEVPVAIHADQLTPTWRVYSTGSNVFQTRAGCLIGAEHVNNSYECDIPIGAGICASYQTQTNSHRRARSVASQSIIAYTMSLGAENSVAYSNNSIAIPINFTISVTTEILPVSMTKTSVDCTMYICGDSTECSNLLLQYGSFCTQLNRALTGIAVEQDKNTQEVFAQVKQIYKTPPIKDFGGFNFSQILPDPSKPSKRSFIEDLLFNKVTLADAGFIKQYGDCLGDIAARDLICAQKFNGLTVLPPLLTDEMIAQYTSALLAGTITSGWTFGAGAALQIPFAMQMAYRFNGIGVTQNVLYENQKLIANQFNSAIGKIQDSLSSTASALGKLQDVVNQNAQALNTLVKQLSSNFGAISSVLNDILARLDKVEAEVQIDRLITGRLQSLQTYVTQQLIRAAEIRASANLAATKMSECVLGQSKRVDFCGKGYHLMSFPQSAPHGVVFLHVTYVPAQEKNFTTAPAICHDGKAHFPREGVFVSNGTHWFVTQRNFYEPQIITTHNTFVSGNCDVVIGIVNNTVYDPLQPELDSFKEELDKYFKNHTSPDVDLGDISGINASVVNIQKEIDRLNEVAKNLNESLIDLQELGKYEQYIKWPWYIWLGFIAGLIAIVMVTIMLCCMTSCCSCLKGCCSCGSCCKFDEDDSEPVLKGVKLHYT']\n",
      "Spike values: ['MW662159.1', 'QSD58771.1', 'MFVFLVLLPLVSSQCVNLTTRTQLPPAYTNSFTRGVYYPDKVFRSSVLHSTQDLFLPFFSNVTWFHAISGTNGTKRFDNPVLPFNDGVYFASTEKSNIIRGWIFGTTLDSKTQSLLIVNNATNVVIKVCEFQFCNDPFLGVYHKNNKSWMESEFRVYSSANNCTFEYVSQPFLMDLEGKQGNFKNLREFVFKNIDGYFKIYSKHTPINLVRDLPQGFSALEPLVDLPIGINITRFQTLLALHRSYLTPGDSSSGWTAGAAAYYVGYLQPRTFLLKYNENGTITDAVDCALDPLSETKCTLKSFTVEKGIYQTSNFRVQPTESIVRFPNITNLCPFGEVFNATRFASVYAWNRKRISNCVADYSVLYNSASFSTFKCYGVSPTKLNDLCFTNVYADSFVIRGDEVRQIAPGQTGKIADYNYKLPDDFTGCVIAWNSNNLDSKVGGNYNYLYRLFRKSNLKPFERDISTEIYQAGSTPCNGVEGFNCYFPLQSYGFQPTYGVGYQPYRVVVLSFELLHAPATVCGPKKSTNLVKNKCVNFNFNGLTGTGVLTESNKKFLPFQQFGRDIDDTTDAVRDPQTLEILDITPCSFGGVSVITPGTNTSNQVAVLYQGVNCTEVPVAIHADQLTPTWRVYSTGSNVFQTRAGCLIGAEHVNNSYECDIPIGAGICASYQTQTNSHRRARSVASQSIIAYTMSLGAENSVAYSNNSIAIPINFTISVTTEILPVSMTKTSVDCTMYICGDSTECSNLLLQYGSFCTQLNRALTGIAVEQDKNTQEVFAQVKQIYKTPPIKDFGGFNFSQILPDPSKPSKRSFIEDLLFNKVTLADAGFIKQYGDCLGDIAARDLICAQKFNGLTVLPPLLTDEMIAQYTSALLAGTITSGWTFGAGAALQIPFAMQMAYRFNGIGVTQNVLYENQKLIANQFNSAIGKIQDSLSSTASALGKLQDVVNQNAQALNTLVKQLSSNFGAISSVLNDILARLDKVEAEVQIDRLITGRLQSLQTYVTQQLIRAAEIRASANLAATKMSECVLGQSKRVDFCGKGYHLMSFPQSAPHGVVFLHVTYVPAQEKNFTTAPAICHDGKAHFPREGVFVSNGTHWFVTQRNFYEPQIITTHNTFVSGNCDVVIGIVNNTVYDPLQPELDSFKEELDKYFKNHTSPDVDLGDISGINASVVNIQKEIDRLNEVAKNLNESLIDLQELGKYEQYIKWPWYIWLGFIAGLIAIVMVTIMLCCMTSCCSCLKGCCSCGSCCKFDEDDSEPVLKGVKLHYT']\n",
      "Spike values: ['MW642248.1', 'QRX39401.1', 'MFVFLVLLPLVSSQCVNFTNRTQLPSAYTNSFTRGVYYPDKVFRSSVLHSTQDLFLPFFSNVTWFHAIHVSGTNGTKRFDNPVLPFNDGVYFASTEKSNIIRGWIFGTTLDSKTQSLLIVNNATNVVIKVCEFQFCNYPFLGVYYHKNNKSWMESEFRVYSSANNCTFEYVSQPFLMDLEGKQGNFKNLSEFVFKNIDGYFKIYSKHTPINLVRDLPQGFSALEPLVDLPIGINITRFQTLLALHRSYLTPGDSSSGWTAGAAAYYVGYLQPRTFLLKYNENGTITDAVDCALDPLSETKCTLKSFTVEKGIYQTSNFRVQPTESIVRFPNITNLCPFGEVFNATRFASVYAWNRKRISNCVADYSVLYNSASFSTFKCYGVSPTKLNDLCFTNVYADSFVIRGDEVRQIAPGQTGTIADYNYKLPDDFTGCVIAWNSNNLDSKVGGNYNYLYRLFRKSNLKPFERDISTEIYQAGSTPCNGVKGFNCYFPLQSYGFQPTYGVGYQPYRVVVLSFELLHAPATVCGPKKSTNLVKNKCVNFNFNGLTGTGVLTESNKKFLPFQQFGRDIADTTDAVRDPQTLEILDITPCSFGGVSVITPGTNTSNQVAVLYQGVNCTEVPVAIHADQLTPTWRVYSTGSNVFQTRAGCLIGAEYVNNSYECDIPIGAGICASYQTQTNSPRRARSVASQSIIAYTMSLGAENSVAYSNNSIAIPTNFTISVTTEILPVSMTKTSVDCTMYICGDSTECSNLLLQYGSFCTQLNRALTGIAVEQDKNTQEVFAQVKQIYKTPPIKDFGGFNFSQILPDPSKPSKRSFIEDLLFNKVTLADAGFIKQYGDCLGDIAARDLICAQKFNGLTVLPPLLTDEMIAQYTSALLAGTITSGWTFGAGAALQIPFAMQMAYRFNGIGVTQNVLYENQKLIANQFNSAIGKIQDSLSSTASALGKLQDVVNQNAQALNTLVKQLSSNFGAISSVLNDILSRLDKVEAEVQIDRLITGRLQSLQTYVTQQLIRAAEIRASANLAAIKMSECVLGQSKRVDFCGKGYHLMSFPQSAPHGVVFLHVTYVPAQEKNFTTAPAICHDGKAHFPREGVFVSNGTHWFVTQRNFYEPQIITTDNTFVSGNCDVVIGIVNNTVYDPLQPELDSFKEELDKYFKNHTSPDVDLGDISGINASFVNIQKEIDRLNEVAKNLNESLIDLQELGKYEQYIKWPWYIWLGFIAGLIAIVMVTIMLCCMTSCCSCLKGCCSCGSCCKFDEDDSEPVLKGVKLHYT']\n",
      "Spike values: ['MW621433.1', 'QRV12072.1', 'MFVFLVLLPLVSSQCVNFTNRTQLPSAYTNSFTRGVYYPDKVFRSSVLHSTQDLFLPFFSNVTWFHAIHVSGTNGTKRFDNPVLPFNDGVYFASTEKSNIIRGWIFGTTLDSKTQSLLIVNNATNVVIKVCEFQFCNYPFLGVYYHKNNKSWMESEFRVYSSANNCTFEYVSQPFLMDLEGKQGNFKNLSEFVFKNIDGYFKIYSKHTPINLVRDLPQGFSALEPLVDLPIGINITRFQTLLALHRSYLTPGDSSSGWTAGAAAYYVGYLQPRTFLLKYNENGTITDAVDCALDPLSETKCTLKSFTVEKGIYQTSNFRVQPTESIVRFPNITNLCPFGEVFNATRFASVYAWNRKRISNCVADYSVLYNSASFSTFKCYGVSPTKLNDLCFTNVYADSFVIRGDEVRQIAPGQTGKIADYNYKLPDDFTGCVIAWNSNNLDSKVGGNYNYLYRLFRKSNLKPFERDISTEIYQAGSTPCNGVKGFNCYFPLQSYGFQPTYGVGYQPYRVVVLSFELLHAPATVCGPKKSTNLVKNKCVNFNFNGLTGTGVLTESNKKFLPFQQFGRDIADTTDAVRDPQTLEILDITPCSFGGVSVITPGTNTSNQVAVLYQGVNCTEVPVAIHADQLTPTWRVYSTGSNVFQTRAGCLIGAEYVNNSYECDIPIGAGICASYQTQTNSPRRARSVASQSIIAYTMSLGAENSVAYSNNSIAIPTNFTISVTTEILPVSMTKTSVDCTMYICGDSTECSNLLLQYGSFCTQLNRALTGIAVEQDKNTQEVFAQVKQIYKTPPIKDFGGFNFSQILPDPSKPSKRSFIEDLLFNKVTLADAGFIKQYGDCLGDIAARDLICAQKFNGLTVLPPLLTDEMIAQYTSALLAGTITSGWTFGAGAALQIPFAMQMAYRFNGIGVTQNVLYENQKLIANQFNSAIGKIQDSLSSTASALGKLQDVVNQNAQALNTLVKQLSSNFGAISSVLNDILSRLDKVEAEVQIDRLITGRLQSLQTYVTQQLIRAAEIRASANLAAIKMSECVLGQSKRVDFCGKGYHLMSFPQSAPHGVVFLHVTYVPAQEKNFTTAPAICHDGKAHFPREGVFVSNGTHWFVTQRNFYEPQIITTDNTFVSGNCDVVIGIVNNTVYDPLQPELDSFKEELDKYFKNHTSPDVDLGDISGINASFVNIQKEIDRLNEVAKNLNESLIDLQELGKYEQYIKWPWYIWLGFIAGLIAIVMVTIMLCCMTSCCSCLKGCCSCGSCCKFDEDDSEPVLKGVKLHYT']\n",
      "Spike values: ['MW580576.1', 'QRI43458.1', 'MFVFLVLLPLVSSQCVNFTTRTQLPPAYTNSFTRGVYYPDKVFRSSVLHSTQDLFLPFFSNVTWFHAIHVSGTNGTKRFANPVLPFNDGVYFASTEKSNIIRGWIFGTTLDSKTQSLLIVNNATNVVIKVCEFQFCNDPFLGVYYHKNNKSWMESEFRVYSSANNCTFEYVSQPFLMDLEGKQGNFKNLREFVFKNIDGYFKIYSKHTPINLVRGLPQGFSALEPLVDLPIGINITRFQTLHRSYLTPGDSSSGWTAGAAAYYVGYLQPRTFLLKYNENGTITDAVDCALXXXXXXXXXXXXXXXXXXXXXXXXXXXXPTESIVRFPNITNLCPFGEVFNATRFASVYAWNRKRISNCVADYSVLYNSASFSTFKCYGVSPTKLNDLCFTNVYADSFVIRGDEVRQIAPGQTGNIADYNYKLPDDFTGCVIAWNSNNLDSKVGGNYNYLYRLFRKSNLKPFERDISTEIYQAGSTPCNGVKGFNCYFPLQSYGFQPTYGVGYQPYRVVVLSFELLHAPATVCGPKKSTNLVKNKCVNFNFNGLTGTGVLTESNKKFLPFQQFGRDIADTTDAVRDPQTLEILDITPCSFGGVSVITPGTNTSNQVAVLYQGVNCTEVPVAIHADQLTPTWRVYSTGSNVFQTRAGCLIGAEHVNNSYECDIPIGAGICASYQTQTNSPRRARSVASQSIIAYTMSLGVENSVAYSNNSIAIPTNFTISVTTEILPVSMTKTSVDCTMYICGDSTECSNLLLQYGSFCTQLNRALTGIAVEQDKNTQEVFAQVKQIYKTPPIKDFGGFNFSQILPDPSKPSKRSFIEDLLFNKVTLADAGFIKQYGDCLGDIAARDLICAQKFNGLTVLPPLLTDEMIAQYTSALLAGTITSGWTFGAGAALQIPFAMQMAYRFNGIGVTQNVLYENQKLIANQFNSAIGKIQDSLSSTASALGKLQDVVNQNAQALNTLVKQLSSNFGAISSVLNDILSRLDKVEAEVQIDRLITGRLQSLQTYVTQQLIRAAEIRASANLAATKMSECVLGQSKRVDFCGKGYHLMSFPQSAPHGVVFLHVTYVPAQEKNFTTAPAICHDGKAHFPREGVFVSNGTHWFVTQRNFYEPQIITTDNTFVSGNCDVVIGIVNNTVYDPLQPELDSFKEELDKYFKNHTSPDVDLGDISGINASVVNIQKEIDRLNEVAKNLNESLIDLQELGKYEQYIKWPWYIWLGFIAGLIAIVMVTIMLCCMTSCCSCLKGCCSCGSCCKFDEDDSEPVLKGVKLHYT']\n"
     ]
    }
   ],
   "source": [
    "for record in recordsList:\n",
    "    spike = get_spike_from_gb(record)\n",
    "    fileName = \"genome-\" + spike[0] + \"_spike-\" + spike[1] + \".fasta\"\n",
    "    #handle = open(fileName, mode=\"w\")\n",
    "    #handle.write(\">%s_%s\\n%s\" % tuple(spike))\n",
    "    with open(fileName, mode=\"w\") as handle:\n",
    "        handle.write(\">%s_%s\\n%s\" % tuple(spike))\n",
    "    print(\"Spike values:\", spike)  # Print spike values for debugging\n"
   ]
  },
  {
   "cell_type": "code",
   "execution_count": null,
   "metadata": {},
   "outputs": [],
   "source": []
  },
  {
   "cell_type": "code",
   "execution_count": null,
   "metadata": {},
   "outputs": [],
   "source": []
  }
 ],
 "metadata": {
  "colab": {
   "authorship_tag": "ABX9TyOSXtiQpt0LeBEZAsiuO0+z",
   "include_colab_link": true,
   "name": "20_biopython_genbank.ipynb",
   "provenance": []
  },
  "kernelspec": {
   "display_name": "Python 3 (ipykernel)",
   "language": "python",
   "name": "python3"
  },
  "language_info": {
   "codemirror_mode": {
    "name": "ipython",
    "version": 3
   },
   "file_extension": ".py",
   "mimetype": "text/x-python",
   "name": "python",
   "nbconvert_exporter": "python",
   "pygments_lexer": "ipython3",
   "version": "3.9.13"
  }
 },
 "nbformat": 4,
 "nbformat_minor": 1
}
